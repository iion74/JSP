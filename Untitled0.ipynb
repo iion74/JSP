{
  "nbformat": 4,
  "nbformat_minor": 0,
  "metadata": {
    "colab": {
      "provenance": []
    },
    "kernelspec": {
      "name": "python3",
      "display_name": "Python 3"
    },
    "language_info": {
      "name": "python"
    }
  },
  "cells": [
    {
      "cell_type": "code",
      "execution_count": null,
      "metadata": {
        "id": "DsNvCjeY-LlA"
      },
      "outputs": [],
      "source": [
        "def client(hostname, port): #클라이언트 함수\n",
        "    sock = socket.socket(socket.AF_INET, socket.SOCK_DGRAM)\n",
        "    sock.connect((hostname, port))\n",
        "    print('클라이언트 소켓 이름은 {}입니다'.format(sock.getsockname()))\n",
        "\n",
        "    delay = 0.1  # seconds\n",
        "    text = '저는 클라이언트 입니다'\n",
        "    data = text.encode('utf-8')\n",
        "    while True:\n",
        "        sock.send(data)\n",
        "        print('{}초 동안 응답 대기'.format(delay))\n",
        "        sock.settimeout(delay)\n",
        "        try:\n",
        "            data = sock.recv(MAX_BYTES)\n",
        "        except socket.timeout as exc:\n",
        "            delay *= 2  # wait even longer for the next request\n",
        "            if delay > 2.0:\n",
        "                raise RuntimeError('서버가 다운되었습니다') from exc\n",
        "        else:\n",
        "            break   # we are done, and can stop looping\n",
        "    print('서버 응답: {!r}'.format(data.decode('utf-8')))\n"
      ]
    }
  ]
}